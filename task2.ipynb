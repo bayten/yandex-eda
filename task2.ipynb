{
 "cells": [
  {
   "cell_type": "markdown",
   "metadata": {},
   "source": [
    "# Задание 2: Полигоны влияния"
   ]
  },
  {
   "cell_type": "markdown",
   "metadata": {},
   "source": [
    "## Условие\n",
    "Яндекс.Еда осуществляет доставку еды из ресторанов. При этом у каждого ресторана есть зона, в рамках которой осуществляется доставка. Зона представляет собой полигон (заданы координаты его вершин). Пользователь в зависимости от своего местоположения (координат точки) видит разное количество доступных ресторанов. Нам важно, чтобы у каждого пользователя было достаточное количество ресторанов для выбора. Задача заключается в том, чтобы для каждого пользователя посчитать доступное ему количество ресторанов."
   ]
  },
  {
   "cell_type": "code",
   "execution_count": 38,
   "metadata": {
    "ExecuteTime": {
     "end_time": "2020-11-28T10:36:19.666055Z",
     "start_time": "2020-11-28T10:36:19.659605Z"
    }
   },
   "outputs": [],
   "source": [
    "import numpy as np\n",
    "import pandas as pd\n",
    "import math"
   ]
  },
  {
   "cell_type": "markdown",
   "metadata": {},
   "source": [
    "### Имеющиеся данные\n",
    "Данные, которые есть (для простоты в формате .csv, несколько первых строк):"
   ]
  },
  {
   "cell_type": "markdown",
   "metadata": {},
   "source": [
    "* *user_coordinates.csv* (примерно 300 тыс. строк, **user_id** – идентификатор пользователя)"
   ]
  },
  {
   "cell_type": "code",
   "execution_count": 39,
   "metadata": {
    "ExecuteTime": {
     "end_time": "2020-11-28T10:36:20.691196Z",
     "start_time": "2020-11-28T10:36:20.659942Z"
    }
   },
   "outputs": [
    {
     "data": {
      "text/html": [
       "<div>\n",
       "<style scoped>\n",
       "    .dataframe tbody tr th:only-of-type {\n",
       "        vertical-align: middle;\n",
       "    }\n",
       "\n",
       "    .dataframe tbody tr th {\n",
       "        vertical-align: top;\n",
       "    }\n",
       "\n",
       "    .dataframe thead th {\n",
       "        text-align: right;\n",
       "    }\n",
       "</style>\n",
       "<table border=\"1\" class=\"dataframe\">\n",
       "  <thead>\n",
       "    <tr style=\"text-align: right;\">\n",
       "      <th></th>\n",
       "      <th>user_id</th>\n",
       "      <th>loc_lat</th>\n",
       "      <th>loc_lon</th>\n",
       "      <th>user_pos</th>\n",
       "    </tr>\n",
       "  </thead>\n",
       "  <tbody>\n",
       "    <tr>\n",
       "      <th>0</th>\n",
       "      <td>1</td>\n",
       "      <td>55.737564</td>\n",
       "      <td>37.345186</td>\n",
       "      <td>(55.737564, 37.345186)</td>\n",
       "    </tr>\n",
       "    <tr>\n",
       "      <th>1</th>\n",
       "      <td>2</td>\n",
       "      <td>56.234564</td>\n",
       "      <td>37.234590</td>\n",
       "      <td>(56.234564, 37.23459)</td>\n",
       "    </tr>\n",
       "    <tr>\n",
       "      <th>2</th>\n",
       "      <td>3</td>\n",
       "      <td>55.234578</td>\n",
       "      <td>36.295745</td>\n",
       "      <td>(55.234578, 36.295745)</td>\n",
       "    </tr>\n",
       "    <tr>\n",
       "      <th>3</th>\n",
       "      <td>4</td>\n",
       "      <td>2.000000</td>\n",
       "      <td>2.000000</td>\n",
       "      <td>(2.0, 2.0)</td>\n",
       "    </tr>\n",
       "  </tbody>\n",
       "</table>\n",
       "</div>"
      ],
      "text/plain": [
       "   user_id    loc_lat    loc_lon                user_pos\n",
       "0        1  55.737564  37.345186  (55.737564, 37.345186)\n",
       "1        2  56.234564  37.234590   (56.234564, 37.23459)\n",
       "2        3  55.234578  36.295745  (55.234578, 36.295745)\n",
       "3        4   2.000000   2.000000              (2.0, 2.0)"
      ]
     },
     "execution_count": 39,
     "metadata": {},
     "output_type": "execute_result"
    }
   ],
   "source": [
    "users = pd.read_csv(\"user_coordinates.csv\")\n",
    "users['user_pos'] = list(zip(round(users.loc_lat, 6), round(users.loc_lon, 6)))\n",
    "users.head()"
   ]
  },
  {
   "cell_type": "markdown",
   "metadata": {},
   "source": [
    "* *place_zone_coordinates.csv* (примерно 500 тыс. строк, **place_id** – идентификатор ресторана, **point_number** – порядковый номер вершины полигона)"
   ]
  },
  {
   "cell_type": "code",
   "execution_count": 16,
   "metadata": {
    "ExecuteTime": {
     "end_time": "2020-11-28T10:14:40.762470Z",
     "start_time": "2020-11-28T10:14:40.733998Z"
    }
   },
   "outputs": [
    {
     "data": {
      "text/html": [
       "<div>\n",
       "<style scoped>\n",
       "    .dataframe tbody tr th:only-of-type {\n",
       "        vertical-align: middle;\n",
       "    }\n",
       "\n",
       "    .dataframe tbody tr th {\n",
       "        vertical-align: top;\n",
       "    }\n",
       "\n",
       "    .dataframe thead th {\n",
       "        text-align: right;\n",
       "    }\n",
       "</style>\n",
       "<table border=\"1\" class=\"dataframe\">\n",
       "  <thead>\n",
       "    <tr style=\"text-align: right;\">\n",
       "      <th></th>\n",
       "      <th>place_id</th>\n",
       "      <th>loc_lat</th>\n",
       "      <th>loc_lon</th>\n",
       "      <th>point_number</th>\n",
       "      <th>pos</th>\n",
       "    </tr>\n",
       "  </thead>\n",
       "  <tbody>\n",
       "    <tr>\n",
       "      <th>0</th>\n",
       "      <td>1</td>\n",
       "      <td>55.747022</td>\n",
       "      <td>37.787073</td>\n",
       "      <td>0</td>\n",
       "      <td>(55.747022, 37.787073)</td>\n",
       "    </tr>\n",
       "    <tr>\n",
       "      <th>1</th>\n",
       "      <td>1</td>\n",
       "      <td>55.751713</td>\n",
       "      <td>37.784328</td>\n",
       "      <td>1</td>\n",
       "      <td>(55.751713, 37.784328)</td>\n",
       "    </tr>\n",
       "    <tr>\n",
       "      <th>2</th>\n",
       "      <td>1</td>\n",
       "      <td>55.753878</td>\n",
       "      <td>37.777638</td>\n",
       "      <td>2</td>\n",
       "      <td>(55.753878, 37.777638)</td>\n",
       "    </tr>\n",
       "    <tr>\n",
       "      <th>3</th>\n",
       "      <td>1</td>\n",
       "      <td>55.751031</td>\n",
       "      <td>37.779351</td>\n",
       "      <td>3</td>\n",
       "      <td>(55.751031, 37.779351)</td>\n",
       "    </tr>\n",
       "    <tr>\n",
       "      <th>4</th>\n",
       "      <td>2</td>\n",
       "      <td>55.803885</td>\n",
       "      <td>37.458311</td>\n",
       "      <td>0</td>\n",
       "      <td>(55.803885, 37.458311)</td>\n",
       "    </tr>\n",
       "    <tr>\n",
       "      <th>5</th>\n",
       "      <td>2</td>\n",
       "      <td>55.808677</td>\n",
       "      <td>37.464054</td>\n",
       "      <td>1</td>\n",
       "      <td>(55.808677, 37.464054)</td>\n",
       "    </tr>\n",
       "    <tr>\n",
       "      <th>6</th>\n",
       "      <td>2</td>\n",
       "      <td>55.809763</td>\n",
       "      <td>37.461314</td>\n",
       "      <td>2</td>\n",
       "      <td>(55.809763, 37.461314)</td>\n",
       "    </tr>\n",
       "    <tr>\n",
       "      <th>7</th>\n",
       "      <td>2</td>\n",
       "      <td>55.810840</td>\n",
       "      <td>37.458654</td>\n",
       "      <td>3</td>\n",
       "      <td>(55.81084, 37.458654)</td>\n",
       "    </tr>\n",
       "    <tr>\n",
       "      <th>8</th>\n",
       "      <td>3</td>\n",
       "      <td>1.000000</td>\n",
       "      <td>1.000000</td>\n",
       "      <td>0</td>\n",
       "      <td>(1.0, 1.0)</td>\n",
       "    </tr>\n",
       "    <tr>\n",
       "      <th>9</th>\n",
       "      <td>3</td>\n",
       "      <td>1.000000</td>\n",
       "      <td>3.000000</td>\n",
       "      <td>1</td>\n",
       "      <td>(1.0, 3.0)</td>\n",
       "    </tr>\n",
       "    <tr>\n",
       "      <th>10</th>\n",
       "      <td>3</td>\n",
       "      <td>3.000000</td>\n",
       "      <td>3.000000</td>\n",
       "      <td>2</td>\n",
       "      <td>(3.0, 3.0)</td>\n",
       "    </tr>\n",
       "    <tr>\n",
       "      <th>11</th>\n",
       "      <td>3</td>\n",
       "      <td>3.000000</td>\n",
       "      <td>2.000000</td>\n",
       "      <td>3</td>\n",
       "      <td>(3.0, 2.0)</td>\n",
       "    </tr>\n",
       "    <tr>\n",
       "      <th>12</th>\n",
       "      <td>3</td>\n",
       "      <td>5.000000</td>\n",
       "      <td>2.000000</td>\n",
       "      <td>4</td>\n",
       "      <td>(5.0, 2.0)</td>\n",
       "    </tr>\n",
       "  </tbody>\n",
       "</table>\n",
       "</div>"
      ],
      "text/plain": [
       "    place_id    loc_lat    loc_lon  point_number                     pos\n",
       "0          1  55.747022  37.787073             0  (55.747022, 37.787073)\n",
       "1          1  55.751713  37.784328             1  (55.751713, 37.784328)\n",
       "2          1  55.753878  37.777638             2  (55.753878, 37.777638)\n",
       "3          1  55.751031  37.779351             3  (55.751031, 37.779351)\n",
       "4          2  55.803885  37.458311             0  (55.803885, 37.458311)\n",
       "5          2  55.808677  37.464054             1  (55.808677, 37.464054)\n",
       "6          2  55.809763  37.461314             2  (55.809763, 37.461314)\n",
       "7          2  55.810840  37.458654             3   (55.81084, 37.458654)\n",
       "8          3   1.000000   1.000000             0              (1.0, 1.0)\n",
       "9          3   1.000000   3.000000             1              (1.0, 3.0)\n",
       "10         3   3.000000   3.000000             2              (3.0, 3.0)\n",
       "11         3   3.000000   2.000000             3              (3.0, 2.0)\n",
       "12         3   5.000000   2.000000             4              (5.0, 2.0)"
      ]
     },
     "execution_count": 16,
     "metadata": {},
     "output_type": "execute_result"
    }
   ],
   "source": [
    "places = pd.read_csv(\"place_zone_coordinates.csv\").sort_values(['place_id', 'point_number'])\n",
    "places['pos'] = list(zip(round(places.loc_lat, 6), round(places.loc_lon, 6)))\n",
    "places"
   ]
  },
  {
   "cell_type": "markdown",
   "metadata": {
    "heading_collapsed": true
   },
   "source": [
    "### Формат ответа\n",
    "id,number_of_places_available\\\n",
    "1,2\\\n",
    "2,19\\\n",
    "3,0"
   ]
  },
  {
   "cell_type": "markdown",
   "metadata": {},
   "source": [
    "## Решение\n",
    "Нам понадобится функция, которая проверяет, принадлежит ли точка данному полигону. Также из-за большого количества полигонов и точек, суммарное количество взаимодействий будет большим, поэтому нужно будет снизить количество вычислений  с помощью интуитивно понятной предпроверки."
   ]
  },
  {
   "cell_type": "code",
   "execution_count": 82,
   "metadata": {
    "ExecuteTime": {
     "end_time": "2020-11-28T10:48:46.043746Z",
     "start_time": "2020-11-28T10:48:46.007022Z"
    }
   },
   "outputs": [
    {
     "data": {
      "text/html": [
       "<div>\n",
       "<style scoped>\n",
       "    .dataframe tbody tr th:only-of-type {\n",
       "        vertical-align: middle;\n",
       "    }\n",
       "\n",
       "    .dataframe tbody tr th {\n",
       "        vertical-align: top;\n",
       "    }\n",
       "\n",
       "    .dataframe thead th {\n",
       "        text-align: right;\n",
       "    }\n",
       "</style>\n",
       "<table border=\"1\" class=\"dataframe\">\n",
       "  <thead>\n",
       "    <tr style=\"text-align: right;\">\n",
       "      <th></th>\n",
       "      <th>poly</th>\n",
       "      <th>bounds</th>\n",
       "    </tr>\n",
       "    <tr>\n",
       "      <th>place_id</th>\n",
       "      <th></th>\n",
       "      <th></th>\n",
       "    </tr>\n",
       "  </thead>\n",
       "  <tbody>\n",
       "    <tr>\n",
       "      <th>1</th>\n",
       "      <td>[(55.747022, 37.787073), (55.751713, 37.784328...</td>\n",
       "      <td>((55.747021999999994, 37.777638), (55.753878, ...</td>\n",
       "    </tr>\n",
       "    <tr>\n",
       "      <th>2</th>\n",
       "      <td>[(55.803885, 37.458311), (55.808677, 37.464054...</td>\n",
       "      <td>((55.803885, 37.458311), (55.81084, 37.464054))</td>\n",
       "    </tr>\n",
       "    <tr>\n",
       "      <th>3</th>\n",
       "      <td>[(1.0, 1.0), (1.0, 3.0), (3.0, 3.0), (3.0, 2.0...</td>\n",
       "      <td>((1.0, 1.0), (5.0, 3.0))</td>\n",
       "    </tr>\n",
       "  </tbody>\n",
       "</table>\n",
       "</div>"
      ],
      "text/plain": [
       "                                                       poly  \\\n",
       "place_id                                                      \n",
       "1         [(55.747022, 37.787073), (55.751713, 37.784328...   \n",
       "2         [(55.803885, 37.458311), (55.808677, 37.464054...   \n",
       "3         [(1.0, 1.0), (1.0, 3.0), (3.0, 3.0), (3.0, 2.0...   \n",
       "\n",
       "                                                     bounds  \n",
       "place_id                                                     \n",
       "1         ((55.747021999999994, 37.777638), (55.753878, ...  \n",
       "2           ((55.803885, 37.458311), (55.81084, 37.464054))  \n",
       "3                                  ((1.0, 1.0), (5.0, 3.0))  "
      ]
     },
     "execution_count": 82,
     "metadata": {},
     "output_type": "execute_result"
    }
   ],
   "source": [
    "poly_lists = places.groupby('place_id').apply(lambda x: list(zip(round(x.loc_lat, 6), round(x.loc_lon, 6))))\n",
    "mins = places.groupby('place_id').min()\n",
    "maxes = places.groupby('place_id').max()\n",
    "polys = pd.DataFrame({'poly': poly_lists,\n",
    "                      'bounds': list(zip(list(zip(mins.loc_lat, mins.loc_lon)),\n",
    "                                         list(zip(maxes.loc_lat, maxes.loc_lon))))})\n",
    "polys.head()"
   ]
  },
  {
   "cell_type": "markdown",
   "metadata": {},
   "source": [
    "### Быстрая проверка принадлежности\n",
    "У нас большое количество полигонов и точек, поэтому нужно искать пути ускорить расчёты. Простая проверка на то, входит ли точка в прямоугольник, содержащий рассматриваемый полигон, позволяет отсеять огромное число полигонов без существенных вычислений."
   ]
  },
  {
   "cell_type": "code",
   "execution_count": 83,
   "metadata": {
    "ExecuteTime": {
     "end_time": "2020-11-28T10:50:12.380811Z",
     "start_time": "2020-11-28T10:50:12.370789Z"
    }
   },
   "outputs": [],
   "source": [
    "def fast_check(point, bounds):\n",
    "    return point[0] < bounds[0][0] or point[0] > bounds[1][0] or \\\n",
    "           point[1] < bounds[0][1] or point[1] > bounds[1][1]"
   ]
  },
  {
   "cell_type": "markdown",
   "metadata": {},
   "source": [
    "### Проверка принадлежности \n",
    "Для проверки принадлежности точки произвольному полигону используется метод трассировки луча. Если горизонтальный луч, исходящий из данной точки, пересекается с ребрами полигона нечётное число раз, то точка лежит внутри полигона."
   ]
  },
  {
   "cell_type": "code",
   "execution_count": 79,
   "metadata": {
    "ExecuteTime": {
     "end_time": "2020-11-28T10:46:59.154488Z",
     "start_time": "2020-11-28T10:46:59.136916Z"
    }
   },
   "outputs": [],
   "source": [
    "def true_sign(s):\n",
    "    '''Стандартный signum'''\n",
    "    if s > 0: return 1\n",
    "    if s < 0: return -1\n",
    "    return 0\n",
    "\n",
    "def poly_edges(poly):\n",
    "    '''Генератор рёбер для данного полигона'''\n",
    "    poly_len = len(poly)\n",
    "    for start_pid in range(poly_len):\n",
    "        yield (poly[start_pid], poly[(start_pid+1)%poly_len])\n",
    "\n",
    "def edge_type(point, edge):\n",
    "    '''Оптимизированная функция проверки отношения точка-ребро.\n",
    "       Спасибо товарищу @halyavin: habr.com/ru/post/161237.\n",
    "    '''\n",
    "    e_org, e_dest = edge\n",
    "    \n",
    "    org_x, org_y = e_org[0]-point[0], e_org[1]-point[1]\n",
    "    dest_x, dest_y = e_dest[0]-point[0], e_dest[1]-point[1]\n",
    "    \n",
    "    if org_y * dest_y > 0: return 1\n",
    "    \n",
    "    sign = true_sign(org_x * dest_y - org_y * dest_x)\n",
    "    if sign == 0:\n",
    "        if org_x * dest_x <= 0:\n",
    "            return 0\n",
    "        return 1\n",
    "    \n",
    "    if org_y < 0:\n",
    "        return -sign\n",
    "    if dest_y < 0:\n",
    "        return sign\n",
    "    \n",
    "    return 1\n",
    "\n",
    "def point_in_poly(point, poly):\n",
    "    '''Проверка на принадлежность точки полигону'''\n",
    "    point_stat = 1\n",
    "    for edge in poly_edges(poly):\n",
    "        point_stat *= edge_type(point, edge)\n",
    "        if not point_stat:\n",
    "            return point_stat\n",
    "    return point_stat"
   ]
  },
  {
   "cell_type": "code",
   "execution_count": 80,
   "metadata": {
    "ExecuteTime": {
     "end_time": "2020-11-28T10:47:03.358453Z",
     "start_time": "2020-11-28T10:47:03.345543Z"
    }
   },
   "outputs": [],
   "source": [
    "def count_polys(point):\n",
    "    '''Apply-функция для подсчёта полигонов для точки'''\n",
    "    total = 0\n",
    "    for poly_idx in polys.index:\n",
    "        if fast_check(point, polys.loc[poly_idx].bounds):\n",
    "            continue\n",
    "        total += point_in_poly(point, polys.loc[poly_idx].poly) < 1\n",
    "    return total\n",
    "\n",
    "users['number_of_places_available'] = users.user_pos.apply(count_polys)"
   ]
  },
  {
   "cell_type": "code",
   "execution_count": 84,
   "metadata": {
    "ExecuteTime": {
     "end_time": "2020-11-28T10:51:50.159328Z",
     "start_time": "2020-11-28T10:51:50.143234Z"
    }
   },
   "outputs": [
    {
     "data": {
      "text/html": [
       "<div>\n",
       "<style scoped>\n",
       "    .dataframe tbody tr th:only-of-type {\n",
       "        vertical-align: middle;\n",
       "    }\n",
       "\n",
       "    .dataframe tbody tr th {\n",
       "        vertical-align: top;\n",
       "    }\n",
       "\n",
       "    .dataframe thead th {\n",
       "        text-align: right;\n",
       "    }\n",
       "</style>\n",
       "<table border=\"1\" class=\"dataframe\">\n",
       "  <thead>\n",
       "    <tr style=\"text-align: right;\">\n",
       "      <th></th>\n",
       "      <th>number_of_places_available</th>\n",
       "    </tr>\n",
       "    <tr>\n",
       "      <th>id</th>\n",
       "      <th></th>\n",
       "    </tr>\n",
       "  </thead>\n",
       "  <tbody>\n",
       "    <tr>\n",
       "      <th>1</th>\n",
       "      <td>0</td>\n",
       "    </tr>\n",
       "    <tr>\n",
       "      <th>2</th>\n",
       "      <td>0</td>\n",
       "    </tr>\n",
       "    <tr>\n",
       "      <th>3</th>\n",
       "      <td>0</td>\n",
       "    </tr>\n",
       "    <tr>\n",
       "      <th>4</th>\n",
       "      <td>1</td>\n",
       "    </tr>\n",
       "  </tbody>\n",
       "</table>\n",
       "</div>"
      ],
      "text/plain": [
       "    number_of_places_available\n",
       "id                            \n",
       "1                            0\n",
       "2                            0\n",
       "3                            0\n",
       "4                            1"
      ]
     },
     "execution_count": 84,
     "metadata": {},
     "output_type": "execute_result"
    }
   ],
   "source": [
    "answer = users[['user_id', 'number_of_places_available']].rename(columns={'user_id':'id'}).set_index('id')\n",
    "answer.to_csv('answer.csv')\n",
    "answer.head()"
   ]
  }
 ],
 "metadata": {
  "kernelspec": {
   "display_name": "Python 3",
   "language": "python",
   "name": "python3"
  },
  "varInspector": {
   "cols": {
    "lenName": 16,
    "lenType": 16,
    "lenVar": 40
   },
   "kernels_config": {
    "python": {
     "delete_cmd_postfix": "",
     "delete_cmd_prefix": "del ",
     "library": "var_list.py",
     "varRefreshCmd": "print(var_dic_list())"
    },
    "r": {
     "delete_cmd_postfix": ") ",
     "delete_cmd_prefix": "rm(",
     "library": "var_list.r",
     "varRefreshCmd": "cat(var_dic_list()) "
    }
   },
   "types_to_exclude": [
    "module",
    "function",
    "builtin_function_or_method",
    "instance",
    "_Feature"
   ],
   "window_display": false
  }
 },
 "nbformat": 4,
 "nbformat_minor": 2
}
